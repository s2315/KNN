{
  "nbformat": 4,
  "nbformat_minor": 0,
  "metadata": {
    "colab": {
      "name": "KNN_Code.ipynb",
      "provenance": [],
      "authorship_tag": "ABX9TyPlPo8FLDfJ2+Z24GnSOxTh",
      "include_colab_link": true
    },
    "kernelspec": {
      "name": "python3",
      "display_name": "Python 3"
    },
    "language_info": {
      "name": "python"
    }
  },
  "cells": [
    {
      "cell_type": "markdown",
      "metadata": {
        "id": "view-in-github",
        "colab_type": "text"
      },
      "source": [
        "<a href=\"https://colab.research.google.com/github/s2315/KNN/blob/main/KNN_Code.ipynb\" target=\"_parent\"><img src=\"https://colab.research.google.com/assets/colab-badge.svg\" alt=\"Open In Colab\"/></a>"
      ]
    },
    {
      "cell_type": "code",
      "execution_count": null,
      "metadata": {
        "id": "rB1ukbOow8VB"
      },
      "outputs": [],
      "source": [
        "import pandas as pd\n",
        "import numpy as np\n",
        "import matplotlib.pyplot as plt\n",
        "import seaborn as sns\n",
        "from sklearn.neighbors import KNeighborsClassifier\n",
        "from sklearn.metrics import classification_report\n",
        "from sklearn.model_selection import train_test_split\n",
        "from sklearn.metrics import roc_auc_score\n",
        "from sklearn.model_selection import GridSearchCV\n",
        "df= pd.read_csv(\"alpha_theta_temporal_data.csv\")"
      ]
    },
    {
      "cell_type": "code",
      "source": [
        "df.shape"
      ],
      "metadata": {
        "colab": {
          "base_uri": "https://localhost:8080/"
        },
        "id": "GubbxE1m-0GS",
        "outputId": "d403c150-130a-4a70-c68f-7cb6f3652845"
      },
      "execution_count": null,
      "outputs": [
        {
          "output_type": "execute_result",
          "data": {
            "text/plain": [
              "(8572, 5)"
            ]
          },
          "metadata": {},
          "execution_count": 52
        }
      ]
    },
    {
      "cell_type": "code",
      "source": [
        "df.head()"
      ],
      "metadata": {
        "colab": {
          "base_uri": "https://localhost:8080/",
          "height": 206
        },
        "id": "1nVea2vnBJEw",
        "outputId": "0004bbeb-75a4-462b-9bfd-2029a0c9e68d"
      },
      "execution_count": null,
      "outputs": [
        {
          "output_type": "execute_result",
          "data": {
            "text/plain": [
              "    2_T7   2_T8   3_T7   3_T8  Label\n",
              "0  0.444  0.483  0.798  0.864    1.0\n",
              "1  0.905  0.549  0.527  1.010    1.0\n",
              "2  0.572  2.550  0.864  0.929    1.0\n",
              "3  0.349  0.592  0.643  1.200    1.0\n",
              "4  0.469  0.494  1.030  1.280    1.0"
            ],
            "text/html": [
              "\n",
              "  <div id=\"df-a6080844-7519-448d-bdbe-7803d57a0d04\">\n",
              "    <div class=\"colab-df-container\">\n",
              "      <div>\n",
              "<style scoped>\n",
              "    .dataframe tbody tr th:only-of-type {\n",
              "        vertical-align: middle;\n",
              "    }\n",
              "\n",
              "    .dataframe tbody tr th {\n",
              "        vertical-align: top;\n",
              "    }\n",
              "\n",
              "    .dataframe thead th {\n",
              "        text-align: right;\n",
              "    }\n",
              "</style>\n",
              "<table border=\"1\" class=\"dataframe\">\n",
              "  <thead>\n",
              "    <tr style=\"text-align: right;\">\n",
              "      <th></th>\n",
              "      <th>2_T7</th>\n",
              "      <th>2_T8</th>\n",
              "      <th>3_T7</th>\n",
              "      <th>3_T8</th>\n",
              "      <th>Label</th>\n",
              "    </tr>\n",
              "  </thead>\n",
              "  <tbody>\n",
              "    <tr>\n",
              "      <th>0</th>\n",
              "      <td>0.444</td>\n",
              "      <td>0.483</td>\n",
              "      <td>0.798</td>\n",
              "      <td>0.864</td>\n",
              "      <td>1.0</td>\n",
              "    </tr>\n",
              "    <tr>\n",
              "      <th>1</th>\n",
              "      <td>0.905</td>\n",
              "      <td>0.549</td>\n",
              "      <td>0.527</td>\n",
              "      <td>1.010</td>\n",
              "      <td>1.0</td>\n",
              "    </tr>\n",
              "    <tr>\n",
              "      <th>2</th>\n",
              "      <td>0.572</td>\n",
              "      <td>2.550</td>\n",
              "      <td>0.864</td>\n",
              "      <td>0.929</td>\n",
              "      <td>1.0</td>\n",
              "    </tr>\n",
              "    <tr>\n",
              "      <th>3</th>\n",
              "      <td>0.349</td>\n",
              "      <td>0.592</td>\n",
              "      <td>0.643</td>\n",
              "      <td>1.200</td>\n",
              "      <td>1.0</td>\n",
              "    </tr>\n",
              "    <tr>\n",
              "      <th>4</th>\n",
              "      <td>0.469</td>\n",
              "      <td>0.494</td>\n",
              "      <td>1.030</td>\n",
              "      <td>1.280</td>\n",
              "      <td>1.0</td>\n",
              "    </tr>\n",
              "  </tbody>\n",
              "</table>\n",
              "</div>\n",
              "      <button class=\"colab-df-convert\" onclick=\"convertToInteractive('df-a6080844-7519-448d-bdbe-7803d57a0d04')\"\n",
              "              title=\"Convert this dataframe to an interactive table.\"\n",
              "              style=\"display:none;\">\n",
              "        \n",
              "  <svg xmlns=\"http://www.w3.org/2000/svg\" height=\"24px\"viewBox=\"0 0 24 24\"\n",
              "       width=\"24px\">\n",
              "    <path d=\"M0 0h24v24H0V0z\" fill=\"none\"/>\n",
              "    <path d=\"M18.56 5.44l.94 2.06.94-2.06 2.06-.94-2.06-.94-.94-2.06-.94 2.06-2.06.94zm-11 1L8.5 8.5l.94-2.06 2.06-.94-2.06-.94L8.5 2.5l-.94 2.06-2.06.94zm10 10l.94 2.06.94-2.06 2.06-.94-2.06-.94-.94-2.06-.94 2.06-2.06.94z\"/><path d=\"M17.41 7.96l-1.37-1.37c-.4-.4-.92-.59-1.43-.59-.52 0-1.04.2-1.43.59L10.3 9.45l-7.72 7.72c-.78.78-.78 2.05 0 2.83L4 21.41c.39.39.9.59 1.41.59.51 0 1.02-.2 1.41-.59l7.78-7.78 2.81-2.81c.8-.78.8-2.07 0-2.86zM5.41 20L4 18.59l7.72-7.72 1.47 1.35L5.41 20z\"/>\n",
              "  </svg>\n",
              "      </button>\n",
              "      \n",
              "  <style>\n",
              "    .colab-df-container {\n",
              "      display:flex;\n",
              "      flex-wrap:wrap;\n",
              "      gap: 12px;\n",
              "    }\n",
              "\n",
              "    .colab-df-convert {\n",
              "      background-color: #E8F0FE;\n",
              "      border: none;\n",
              "      border-radius: 50%;\n",
              "      cursor: pointer;\n",
              "      display: none;\n",
              "      fill: #1967D2;\n",
              "      height: 32px;\n",
              "      padding: 0 0 0 0;\n",
              "      width: 32px;\n",
              "    }\n",
              "\n",
              "    .colab-df-convert:hover {\n",
              "      background-color: #E2EBFA;\n",
              "      box-shadow: 0px 1px 2px rgba(60, 64, 67, 0.3), 0px 1px 3px 1px rgba(60, 64, 67, 0.15);\n",
              "      fill: #174EA6;\n",
              "    }\n",
              "\n",
              "    [theme=dark] .colab-df-convert {\n",
              "      background-color: #3B4455;\n",
              "      fill: #D2E3FC;\n",
              "    }\n",
              "\n",
              "    [theme=dark] .colab-df-convert:hover {\n",
              "      background-color: #434B5C;\n",
              "      box-shadow: 0px 1px 3px 1px rgba(0, 0, 0, 0.15);\n",
              "      filter: drop-shadow(0px 1px 2px rgba(0, 0, 0, 0.3));\n",
              "      fill: #FFFFFF;\n",
              "    }\n",
              "  </style>\n",
              "\n",
              "      <script>\n",
              "        const buttonEl =\n",
              "          document.querySelector('#df-a6080844-7519-448d-bdbe-7803d57a0d04 button.colab-df-convert');\n",
              "        buttonEl.style.display =\n",
              "          google.colab.kernel.accessAllowed ? 'block' : 'none';\n",
              "\n",
              "        async function convertToInteractive(key) {\n",
              "          const element = document.querySelector('#df-a6080844-7519-448d-bdbe-7803d57a0d04');\n",
              "          const dataTable =\n",
              "            await google.colab.kernel.invokeFunction('convertToInteractive',\n",
              "                                                     [key], {});\n",
              "          if (!dataTable) return;\n",
              "\n",
              "          const docLinkHtml = 'Like what you see? Visit the ' +\n",
              "            '<a target=\"_blank\" href=https://colab.research.google.com/notebooks/data_table.ipynb>data table notebook</a>'\n",
              "            + ' to learn more about interactive tables.';\n",
              "          element.innerHTML = '';\n",
              "          dataTable['output_type'] = 'display_data';\n",
              "          await google.colab.output.renderOutput(dataTable, element);\n",
              "          const docLink = document.createElement('div');\n",
              "          docLink.innerHTML = docLinkHtml;\n",
              "          element.appendChild(docLink);\n",
              "        }\n",
              "      </script>\n",
              "    </div>\n",
              "  </div>\n",
              "  "
            ]
          },
          "metadata": {},
          "execution_count": 53
        }
      ]
    },
    {
      "cell_type": "code",
      "source": [
        "sns.countplot(df['Label'])"
      ],
      "metadata": {
        "colab": {
          "base_uri": "https://localhost:8080/",
          "height": 351
        },
        "id": "nEyMkoOC_Ioq",
        "outputId": "2fe52005-9f84-4948-dea3-2cb8b87a746a"
      },
      "execution_count": null,
      "outputs": [
        {
          "output_type": "stream",
          "name": "stderr",
          "text": [
            "/usr/local/lib/python3.7/dist-packages/seaborn/_decorators.py:43: FutureWarning: Pass the following variable as a keyword arg: x. From version 0.12, the only valid positional argument will be `data`, and passing other arguments without an explicit keyword will result in an error or misinterpretation.\n",
            "  FutureWarning\n"
          ]
        },
        {
          "output_type": "execute_result",
          "data": {
            "text/plain": [
              "<matplotlib.axes._subplots.AxesSubplot at 0x7fd204fa2fd0>"
            ]
          },
          "metadata": {},
          "execution_count": 54
        },
        {
          "output_type": "display_data",
          "data": {
            "text/plain": [
              "<Figure size 432x288 with 1 Axes>"
            ],
            "image/png": "[encoded data removed]"
          },
          "metadata": {
            "needs_background": "light"
          }
        }
      ]
    },
    {
      "cell_type": "code",
      "source": [
        "knn = KNeighborsClassifier()\n",
        "#Create x and y variables.\n",
        "x = df.drop(columns=['Label'])\n",
        "y = df['Label']\n",
        "#Split data into training and testing.\n",
        "x_train, x_test, y_train, y_test = train_test_split(x, y, test_size=0.2, random_state=4)\n",
        "#Training the model.\n",
        "knn.fit(x_train, y_train)\n",
        "#Predict test data set.\n",
        "y_pred = knn.predict(x_test)\n",
        "#Checking performance our model with classification report.\n",
        "print(classification_report(y_test, y_pred))\n",
        "#Checking performance our model with ROC Score.\n",
        "roc_auc_score(y_test, y_pred)"
      ],
      "metadata": {
        "colab": {
          "base_uri": "https://localhost:8080/"
        },
        "id": "YqLjMB-z_fyR",
        "outputId": "9ea179d9-6a61-44f5-ab92-44d1183ecb12"
      },
      "execution_count": null,
      "outputs": [
        {
          "output_type": "stream",
          "name": "stdout",
          "text": [
            "              precision    recall  f1-score   support\n",
            "\n",
            "         0.0       0.80      0.73      0.77       894\n",
            "         1.0       0.73      0.80      0.77       821\n",
            "\n",
            "    accuracy                           0.77      1715\n",
            "   macro avg       0.77      0.77      0.77      1715\n",
            "weighted avg       0.77      0.77      0.77      1715\n",
            "\n"
          ]
        },
        {
          "output_type": "execute_result",
          "data": {
            "text/plain": [
              "0.767012182992858"
            ]
          },
          "metadata": {},
          "execution_count": 56
        }
      ]
    },
    {
      "cell_type": "code",
      "source": [
        "leaf_size = list(range(1,50))\n",
        "n_neighbors = list(range(1,30))\n",
        "p=[1,2]\n",
        "#Convert to dictionary\n",
        "hyperparameters = dict(leaf_size=leaf_size, n_neighbors=n_neighbors, p=p)\n",
        "#Create new KNN object\n",
        "knn_2 = KNeighborsClassifier()\n",
        "#Use GridSearch\n",
        "clf = GridSearchCV(knn_2, hyperparameters, cv=10)\n",
        "#Fit the model\n",
        "best_model = clf.fit(x,y)\n",
        "#Print The value of best Hyperparameters\n",
        "print('Best leaf_size:', best_model.best_estimator_.get_params()['leaf_size'])\n",
        "print('Best p:', best_model.best_estimator_.get_params()['p'])\n",
        "print('Best n_neighbors:', best_model.best_estimator_.get_params()['n_neighbors'])"
      ],
      "metadata": {
        "colab": {
          "base_uri": "https://localhost:8080/"
        },
        "id": "kyen-YvbCDDc",
        "outputId": "f94b6ea4-e9fa-491c-d5eb-d37813dcc42f"
      },
      "execution_count": null,
      "outputs": [
        {
          "output_type": "stream",
          "name": "stdout",
          "text": [
            "Best leaf_size: 8\n",
            "Best p: 1\n",
            "Best n_neighbors: 23\n"
          ]
        }
      ]
    },
    {
      "cell_type": "code",
      "source": [
        "from sklearn.metrics import *\n",
        "test_prediction= best_model.predict(x_test)\n",
        "train_prediction= best_model.predict(x_train)\n",
        "prob_test = np.squeeze(best_model.predict_proba(x_test)[:,1].reshape(1,-1))\n",
        "\n",
        "test_acc=accuracy_score(y_test,test_prediction)\n",
        "train_acc=accuracy_score(y_train,train_prediction)\n",
        "print(\"train_acc %0.3f\" %(train_acc*100))\n",
        "print(\"test_acc %0.3f\" %(test_acc*100))\n",
        "\n",
        "\n",
        "print(\"Confusion Matrix:\")\n",
        "print(confusion_matrix(y_test, test_prediction))\n",
        "\n",
        "print(\"Classification Report:\")\n",
        "print(classification_report(y_test, test_prediction))\n",
        "\n",
        "roc_aucScore=roc_auc_score(y_test,test_prediction)\n",
        "print(\"ROC_AUC_SCORE: %.2f\" % (roc_aucScore))\n",
        "\n",
        "error=log_loss(y_test.astype(np.float64),prob_test.astype(np.float64))\n",
        "print(\"log_loss: %.2f \"%(error))\n",
        "\n",
        "jaccard = jaccard_score(y_test,test_prediction)\n",
        "print(\"jaccard: %0.2f \"%(jaccard))\n",
        "\n",
        "hammingloss =hamming_loss(y_test,test_prediction)\n",
        "print(\"hamming_loss: %0.4f \" %(hammingloss)) \n",
        "\n",
        "f1_positive = f1_score(y_test, test_prediction, pos_label=1)\n",
        "f1_negative = f1_score(y_test, test_prediction, pos_label=0)\n",
        "print(\"f1_positive: %0.2f , f1_negative: %0.2f\" %(f1_positive,f1_negative))\n",
        "\n",
        "recall_sensitivity = recall_score(y_test, test_prediction, pos_label=1)\n",
        "recall_specificity =recall_score(y_test, test_prediction, pos_label=0)\n",
        "print(\"recall_sensitivity: %0.2f, recall_specificity: %0.2f\" %(recall_sensitivity, recall_specificity))\n",
        "\n",
        "precision_positive =precision_score(y_test, test_prediction, pos_label=1)\n",
        "precision_negative = precision_score(y_test, test_prediction, pos_label=0)\n",
        "print(\"precision_positive: %0.2f , precision_negative: %0.2f\" %(precision_positive,precision_negative))"
      ],
      "metadata": {
        "colab": {
          "base_uri": "https://localhost:8080/"
        },
        "id": "dFrLB84jCIPd",
        "outputId": "99ae28a8-9fec-4b99-a555-a43f1ea988cc"
      },
      "execution_count": null,
      "outputs": [
        {
          "output_type": "stream",
          "name": "stdout",
          "text": [
            "train_acc 79.977\n",
            "test_acc 80.117\n",
            "Confusion Matrix:\n",
            "[[669 225]\n",
            " [116 705]]\n",
            "Classification Report:\n",
            "              precision    recall  f1-score   support\n",
            "\n",
            "         0.0       0.85      0.75      0.80       894\n",
            "         1.0       0.76      0.86      0.81       821\n",
            "\n",
            "    accuracy                           0.80      1715\n",
            "   macro avg       0.81      0.80      0.80      1715\n",
            "weighted avg       0.81      0.80      0.80      1715\n",
            "\n",
            "ROC_AUC_SCORE: 0.80\n",
            "log_loss: 0.39 \n",
            "jaccard: 0.67 \n",
            "hamming_loss: 0.1988 \n",
            "f1_positive: 0.81 , f1_negative: 0.80\n",
            "recall_sensitivity: 0.86, recall_specificity: 0.75\n",
            "precision_positive: 0.76 , precision_negative: 0.85\n"
          ]
        }
      ]
    }
  ]
}